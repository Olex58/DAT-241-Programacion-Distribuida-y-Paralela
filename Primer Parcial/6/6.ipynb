{
  "nbformat": 4,
  "nbformat_minor": 0,
  "metadata": {
    "colab": {
      "provenance": []
    },
    "kernelspec": {
      "name": "python3",
      "display_name": "Python 3"
    },
    "language_info": {
      "name": "python"
    }
  },
  "cells": [
    {
      "cell_type": "code",
      "execution_count": 3,
      "metadata": {
        "colab": {
          "base_uri": "https://localhost:8080/"
        },
        "id": "idtKvPF4KjYy",
        "outputId": "3a45e951-e8e0-4621-ae22-9177dcedf09d"
      },
      "outputs": [
        {
          "output_type": "stream",
          "name": "stdout",
          "text": [
            "[0, 1, 1, 2, 3, 5, 8, 13, 21, 34, 55, 89, 144, 233, 377, 610, 987, 1597, 2584, 4181, 6765, 10946, 17711, 28657, 46368, 75025, 121393, 196418, 317811, 514229]\n"
          ]
        }
      ],
      "source": [
        "def fibonacci(n):\n",
        "    secfibo = [0, 1]\n",
        "\n",
        "    for i in range(2, n):\n",
        "\n",
        "        siguiT= secfibo[i-1] + secfibo[i-2]\n",
        "        secfibo.append(siguiT)\n",
        "\n",
        "    return secfibo\n",
        "\n",
        "n = 30\n",
        "result = fibonacci(n)\n",
        "print(result)\n"
      ]
    }
  ]
}