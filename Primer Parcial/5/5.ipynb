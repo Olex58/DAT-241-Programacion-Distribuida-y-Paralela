{
  "nbformat": 4,
  "nbformat_minor": 0,
  "metadata": {
    "colab": {
      "provenance": []
    },
    "kernelspec": {
      "name": "python3",
      "display_name": "Python 3"
    },
    "language_info": {
      "name": "python"
    }
  },
  "cells": [
    {
      "cell_type": "code",
      "execution_count": null,
      "metadata": {
        "colab": {
          "base_uri": "https://localhost:8080/"
        },
        "id": "oE5TZgzkY66G",
        "outputId": "b0fb38aa-3220-45dc-9a04-baf2330bfe66"
      },
      "outputs": [
        {
          "output_type": "stream",
          "name": "stdout",
          "text": [
            "El valor de pi con 1000000 términos es: 3.141591868191403\n"
          ]
        }
      ],
      "source": [
        "import multiprocessing as mp\n",
        "from multiprocessing import Pool\n",
        "\n",
        "def calcpi(ini, l):\n",
        "    pim=1.0\n",
        "    for n in range(ini, l):\n",
        "        lt=(2*n)/(2*n-1)\n",
        "        rt=(2*n)/(2*n+1)\n",
        "        pim*=lt*rt\n",
        "    return pim\n",
        "\n",
        "if __name__ == '__main__':\n",
        "    nt=10**6\n",
        "    nproce=max(3,mp.cpu_count())\n",
        "    l=nt//nproce\n",
        "    e=[(i*l+1,(i+1)*l+1) for i in range(nproce)]\n",
        "    e[-1]=(e[-1][0],nt+1)\n",
        "    pool = Pool(processes=nproce)\n",
        "    r=pool.starmap(calcpi, e)\n",
        "    pool.close()\n",
        "    pool.join()\n",
        "    pimt=1.0\n",
        "    for res in r:\n",
        "        pimt*= res\n",
        "    pi=2*pimt\n",
        "    print(f\"El valor de pi con {nt} términos es: {pi}\")\n"
      ]
    }
  ]
}